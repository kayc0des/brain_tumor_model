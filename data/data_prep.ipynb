{
 "cells": [
  {
   "cell_type": "markdown",
   "metadata": {},
   "source": [
    "# Data Preparation"
   ]
  },
  {
   "cell_type": "code",
   "execution_count": null,
   "metadata": {},
   "outputs": [],
   "source": [
    "# Import all Modules\n",
    "import pandas as pd\n",
    "import numpy as np\n",
    "\n",
    "# Load CSV Dataset to extrat target data for all images\n",
    "data = pd.read_csv('BrainTumor.csv')\n",
    "data.head()"
   ]
  },
  {
   "cell_type": "code",
   "execution_count": null,
   "metadata": {},
   "outputs": [],
   "source": [
    "target = np.array(data['Class'])\n",
    "\n",
    "# Validate \n",
    "print(len(target))\n",
    "print(target[:5])"
   ]
  },
  {
   "cell_type": "markdown",
   "metadata": {},
   "source": [
    "## Create Numpy Image Array"
   ]
  },
  {
   "cell_type": "code",
   "execution_count": 4,
   "metadata": {},
   "outputs": [],
   "source": [
    "from PIL import Image\n",
    "import os\n",
    "\n",
    "def create_image_array(folder_path):\n",
    "    '''\n",
    "    Read images from a folder and creates a Numpy array containing them\n",
    "    \n",
    "    Args:\n",
    "        folder_path: Path to the folder containing images\n",
    "    \n",
    "    Returns:\n",
    "        A Numpy array containing the loaded images\n",
    "    '''\n",
    "\n",
    "    # number of files in folder\n",
    "    num_files = len(os.listdir(folder_path))\n",
    "    \n",
    "    images = []\n",
    "    for i in range(1, num_files + 1):\n",
    "        # Get full image path\n",
    "        filename = f'Image{i}.jpg'\n",
    "        image_path = os.path.join(folder_path, filename)\n",
    "        \n",
    "        image = np.asarray(Image.open(image_path))\n",
    "        \n",
    "        # Append the image to the list\n",
    "        images.append(image)\n",
    "    \n",
    "    # Convert the image to the list\n",
    "    image_array = np.asarray(images)\n",
    "\n",
    "    return image_array\n",
    "\n",
    "def save_to_npz(image_array, filename):\n",
    "    '''\n",
    "    Function saves a Numpy array to an npz file\n",
    "    \n",
    "    Args:\n",
    "        image_array: The Numpy array to be saved\n",
    "        filename: The filename for the npz file\n",
    "    '''\n",
    "\n",
    "    np.savez_compressed(filename, images=image_array)"
   ]
  },
  {
   "cell_type": "code",
   "execution_count": 40,
   "metadata": {},
   "outputs": [],
   "source": [
    "# Convert Images to np array and save it\n",
    "image_data = create_image_array('images/')\n",
    "save_to_npz(image_data, 'image_data.npz')"
   ]
  },
  {
   "cell_type": "code",
   "execution_count": null,
   "metadata": {},
   "outputs": [],
   "source": [
    "import matplotlib.pyplot as plt\n",
    "\n",
    "data = np.load('image_data.npz')\n",
    "images = data['images']\n",
    "print(images.shape)"
   ]
  },
  {
   "cell_type": "code",
   "execution_count": null,
   "metadata": {},
   "outputs": [],
   "source": [
    "# Plot first 10 images\n",
    "fig = plt.figure(figsize=(30, 30))\n",
    "for i in range(10):\n",
    "    fig.add_subplot(30, 30, i + 1)\n",
    "    plt.imshow(images[i])\n",
    "    plt.title(target[i])\n",
    "    plt.axis('off')\n",
    "plt.tight_layout()\n",
    "plt.show"
   ]
  }
 ],
 "metadata": {
  "kernelspec": {
   "display_name": "base",
   "language": "python",
   "name": "python3"
  },
  "language_info": {
   "codemirror_mode": {
    "name": "ipython",
    "version": 3
   },
   "file_extension": ".py",
   "mimetype": "text/x-python",
   "name": "python",
   "nbconvert_exporter": "python",
   "pygments_lexer": "ipython3",
   "version": "3.9.19"
  }
 },
 "nbformat": 4,
 "nbformat_minor": 2
}
